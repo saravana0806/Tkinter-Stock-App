{
 "cells": [
  {
   "cell_type": "code",
   "execution_count": null,
   "id": "9fb3dc96",
   "metadata": {},
   "outputs": [],
   "source": [
    "import yfinance as yf\n",
    "import matplotlib.pyplot as plt\n",
    "from matplotlib.backends.backend_tkagg import FigureCanvasTkAgg\n",
    "import tkinter as tk\n",
    "from tkinter import ttk\n",
    "\n",
    "def fetch_stock_data(symbol, interval='1d', period='1mo'):\n",
    "    stock = yf.Ticker(symbol)\n",
    "    data = stock.history(period=period, interval=interval)\n",
    "    return data\n",
    "\n",
    "def update_plot():\n",
    "    symbol = symbol_var.get()\n",
    "    data = fetch_stock_data(symbol)\n",
    "    \n",
    "    ax.clear()\n",
    "\n",
    "    ax.plot(data['Close'], label='Closing Price')\n",
    "    \n",
    "    ax.set_title(f'Stock Price for {symbol}')\n",
    "    ax.set_xlabel('Date')\n",
    "    ax.set_ylabel('Price')\n",
    "    ax.legend()\n",
    "\n",
    "    canvas.draw()\n",
    "\n",
    "root = tk.Tk()\n",
    "root.title(\"Stock Price and Trends\")\n",
    "\n",
    "top_frame = ttk.Frame(root)\n",
    "top_frame.pack(side=tk.TOP, padx=10, pady=10)\n",
    "\n",
    "symbol_label = ttk.Label(top_frame, text=\"Stock Symbol:\")\n",
    "symbol_label.grid(row=0, column=0, padx=5, pady=5)\n",
    "\n",
    "symbol_var = tk.StringVar()\n",
    "symbol_entry = ttk.Entry(top_frame, textvariable=symbol_var)\n",
    "symbol_entry.grid(row=0, column=1, padx=5, pady=5)\n",
    "\n",
    "update_button = ttk.Button(top_frame, text=\"Update\", command=update_plot)\n",
    "update_button.grid(row=0, column=2, padx=5, pady=5)\n",
    "\n",
    "fig, ax = plt.subplots(figsize=(8, 4))\n",
    "canvas = FigureCanvasTkAgg(fig, master=root)\n",
    "canvas_widget = canvas.get_tk_widget()\n",
    "canvas_widget.pack(side=tk.TOP, fill=tk.BOTH, expand=True)\n",
    "\n",
    "update_plot()\n",
    "\n",
    "root.mainloop()"
   ]
  }
 ],
 "metadata": {
  "kernelspec": {
   "display_name": "Python 3 (ipykernel)",
   "language": "python",
   "name": "python3"
  },
  "language_info": {
   "codemirror_mode": {
    "name": "ipython",
    "version": 3
   },
   "file_extension": ".py",
   "mimetype": "text/x-python",
   "name": "python",
   "nbconvert_exporter": "python",
   "pygments_lexer": "ipython3",
   "version": "3.11.5"
  }
 },
 "nbformat": 4,
 "nbformat_minor": 5
}
